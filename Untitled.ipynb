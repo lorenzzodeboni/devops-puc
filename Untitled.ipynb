{
 "cells": [
  {
   "cell_type": "code",
   "execution_count": 3,
   "id": "5a9effd1-5db5-46e0-9ee4-f9a05802be09",
   "metadata": {},
   "outputs": [
    {
     "name": "stdout",
     "output_type": "stream",
     "text": [
      "Collecting FastAPI\n",
      "  Downloading fastapi-0.112.2-py3-none-any.whl.metadata (27 kB)\n",
      "Collecting starlette<0.39.0,>=0.37.2 (from FastAPI)\n",
      "  Downloading starlette-0.38.4-py3-none-any.whl.metadata (6.0 kB)\n",
      "Requirement already satisfied: pydantic!=1.8,!=1.8.1,!=2.0.0,!=2.0.1,!=2.1.0,<3.0.0,>=1.7.4 in c:\\users\\pro\\anaconda3\\lib\\site-packages (from FastAPI) (2.5.3)\n",
      "Requirement already satisfied: typing-extensions>=4.8.0 in c:\\users\\pro\\anaconda3\\lib\\site-packages (from FastAPI) (4.11.0)\n",
      "Requirement already satisfied: annotated-types>=0.4.0 in c:\\users\\pro\\anaconda3\\lib\\site-packages (from pydantic!=1.8,!=1.8.1,!=2.0.0,!=2.0.1,!=2.1.0,<3.0.0,>=1.7.4->FastAPI) (0.6.0)\n",
      "Requirement already satisfied: pydantic-core==2.14.6 in c:\\users\\pro\\anaconda3\\lib\\site-packages (from pydantic!=1.8,!=1.8.1,!=2.0.0,!=2.0.1,!=2.1.0,<3.0.0,>=1.7.4->FastAPI) (2.14.6)\n",
      "Requirement already satisfied: anyio<5,>=3.4.0 in c:\\users\\pro\\anaconda3\\lib\\site-packages (from starlette<0.39.0,>=0.37.2->FastAPI) (4.2.0)\n",
      "Requirement already satisfied: idna>=2.8 in c:\\users\\pro\\anaconda3\\lib\\site-packages (from anyio<5,>=3.4.0->starlette<0.39.0,>=0.37.2->FastAPI) (3.7)\n",
      "Requirement already satisfied: sniffio>=1.1 in c:\\users\\pro\\anaconda3\\lib\\site-packages (from anyio<5,>=3.4.0->starlette<0.39.0,>=0.37.2->FastAPI) (1.3.0)\n",
      "Downloading fastapi-0.112.2-py3-none-any.whl (93 kB)\n",
      "   ---------------------------------------- 0.0/93.5 kB ? eta -:--:--\n",
      "   ---------------------------------------  92.2/93.5 kB 5.1 MB/s eta 0:00:01\n",
      "   ---------------------------------------- 93.5/93.5 kB 2.7 MB/s eta 0:00:00\n",
      "Downloading starlette-0.38.4-py3-none-any.whl (71 kB)\n",
      "   ---------------------------------------- 0.0/71.4 kB ? eta -:--:--\n",
      "   ---------------------------------------- 71.4/71.4 kB 2.0 MB/s eta 0:00:00\n",
      "Installing collected packages: starlette, FastAPI\n",
      "Successfully installed FastAPI-0.112.2 starlette-0.38.4\n",
      "Note: you may need to restart the kernel to use updated packages.\n"
     ]
    }
   ],
   "source": [
    "pip install FastAPI"
   ]
  },
  {
   "cell_type": "code",
   "execution_count": 5,
   "id": "0ce7eae0-4fef-4469-97f9-0878cb69b8a2",
   "metadata": {},
   "outputs": [],
   "source": [
    "from fastapi import FastAPI\n",
    "\n",
    "app = FastAPI()\n",
    "\n",
    "\n",
    "@app.get(\"/\")\n",
    "async def root():\n",
    "    return {\"message\": \"Hello World\"}"
   ]
  },
  {
   "cell_type": "code",
   "execution_count": null,
   "id": "a0d593ba-2e2f-4662-99a9-f2b22f20b803",
   "metadata": {},
   "outputs": [],
   "source": []
  }
 ],
 "metadata": {
  "kernelspec": {
   "display_name": "Python 3 (ipykernel)",
   "language": "python",
   "name": "python3"
  },
  "language_info": {
   "codemirror_mode": {
    "name": "ipython",
    "version": 3
   },
   "file_extension": ".py",
   "mimetype": "text/x-python",
   "name": "python",
   "nbconvert_exporter": "python",
   "pygments_lexer": "ipython3",
   "version": "3.12.4"
  }
 },
 "nbformat": 4,
 "nbformat_minor": 5
}
